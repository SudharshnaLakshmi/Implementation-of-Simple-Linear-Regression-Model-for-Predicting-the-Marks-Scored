{
 "cells": [
  {
   "cell_type": "code",
   "execution_count": 1,
   "id": "6ed0f88a",
   "metadata": {},
   "outputs": [],
   "source": [
    "#Ex 02-Implementation of Simple Linear Regression Model for Predicting the Marks Scored\n",
    "#Name.Sudharshna Lakshmi S\n",
    "#Reg no.212221230110"
   ]
  },
  {
   "cell_type": "code",
   "execution_count": 2,
   "id": "36d9444e",
   "metadata": {},
   "outputs": [],
   "source": [
    "#import files\n",
    "import numpy as np\n",
    "import pandas as pd\n",
    "df=pd.read_csv('student_scores.csv')"
   ]
  },
  {
   "cell_type": "code",
   "execution_count": 3,
   "id": "6aa45b75",
   "metadata": {},
   "outputs": [
    {
     "name": "stdout",
     "output_type": "stream",
     "text": [
      "X= [[2.5]\n",
      " [5.1]\n",
      " [3.2]\n",
      " [8.5]\n",
      " [3.5]\n",
      " [1.5]\n",
      " [9.2]\n",
      " [5.5]\n",
      " [8.3]\n",
      " [2.7]\n",
      " [7.7]\n",
      " [5.9]\n",
      " [4.5]\n",
      " [3.3]\n",
      " [1.1]\n",
      " [8.9]\n",
      " [2.5]\n",
      " [1.9]\n",
      " [6.1]\n",
      " [7.4]\n",
      " [2.7]\n",
      " [4.8]\n",
      " [3.8]\n",
      " [6.9]\n",
      " [7.8]]\n",
      "Y= [21 47 27 75 30 20 88 60 81 25 85 62 41 42 17 95 30 24 67 69 30 54 35 76\n",
      " 86]\n"
     ]
    }
   ],
   "source": [
    "#assigning hours To X and Scores to Y\n",
    "X=df.iloc[:,:-1].values\n",
    "Y=df.iloc[:,1].values\n",
    "print(\"X=\",X)\n",
    "print(\"Y=\",Y)"
   ]
  },
  {
   "cell_type": "code",
   "execution_count": 4,
   "id": "7b8e5422",
   "metadata": {},
   "outputs": [],
   "source": [
    "from sklearn.model_selection import train_test_split\n",
    "X_train,X_test,Y_train,Y_test=train_test_split(X,Y,test_size=1/3,random_state=0)"
   ]
  },
  {
   "cell_type": "code",
   "execution_count": 5,
   "id": "9b70a853",
   "metadata": {},
   "outputs": [
    {
     "data": {
      "text/plain": [
       "LinearRegression()"
      ]
     },
     "execution_count": 5,
     "metadata": {},
     "output_type": "execute_result"
    }
   ],
   "source": [
    "from sklearn.linear_model import LinearRegression\n",
    "reg=LinearRegression()\n",
    "reg.fit(X_train,Y_train)"
   ]
  },
  {
   "cell_type": "code",
   "execution_count": 6,
   "id": "de8d28c8",
   "metadata": {},
   "outputs": [],
   "source": [
    "Y_pred=reg.predict(X_test)\n",
    "import matplotlib.pyplot as plt\n",
    "from sklearn.metrics import mean_absolute_error,mean_squared_error"
   ]
  },
  {
   "cell_type": "code",
   "execution_count": 7,
   "id": "ec4af408",
   "metadata": {},
   "outputs": [
    {
     "data": {
      "text/plain": [
       "Text(0, 0.5, 'Scores')"
      ]
     },
     "execution_count": 7,
     "metadata": {},
     "output_type": "execute_result"
    },
    {
     "data": {
      "image/png": "[encoded data removed]",
      "text/plain": [
       "<Figure size 432x288 with 1 Axes>"
      ]
     },
     "metadata": {
      "needs_background": "light"
     },
     "output_type": "display_data"
    }
   ],
   "source": [
    "plt.scatter(X_train,Y_train,color='brown')\n",
    "plt.plot(X_train,reg.predict(X_train),color='orange')\n",
    "plt.title('Training set(H vs S)',color='green')\n",
    "plt.xlabel('Hours',color='pink')\n",
    "plt.ylabel('Scores',color='pink')"
   ]
  },
  {
   "cell_type": "code",
   "execution_count": 8,
   "id": "9f18cfa7",
   "metadata": {},
   "outputs": [
    {
     "data": {
      "text/plain": [
       "Text(0, 0.5, 'Scores')"
      ]
     },
     "execution_count": 8,
     "metadata": {},
     "output_type": "execute_result"
    },
    {
     "data": {
      "image/png": "[encoded data removed]",
      "text/plain": [
       "<Figure size 432x288 with 1 Axes>"
      ]
     },
     "metadata": {
      "needs_background": "light"
     },
     "output_type": "display_data"
    }
   ],
   "source": [
    "plt.scatter(X_test,Y_test,color='brown')\n",
    "plt.plot(X_test,reg.predict(X_test),color='violet')\n",
    "plt.title('Test set(H vs S)',color='brown')\n",
    "plt.xlabel('Hours',color='grey')\n",
    "plt.ylabel('Scores',color='grey')"
   ]
  },
  {
   "cell_type": "code",
   "execution_count": 9,
   "id": "be378a52",
   "metadata": {},
   "outputs": [
    {
     "name": "stdout",
     "output_type": "stream",
     "text": [
      "MSE =  25.463280738222593\n",
      "MAE =  4.6913974413974415\n",
      "RMSE =  5.046115410711748\n"
     ]
    }
   ],
   "source": [
    "mse=mean_squared_error(Y_test,Y_pred)\n",
    "print('MSE = ',mse)\n",
    "\n",
    "mae=mean_absolute_error(Y_test,Y_pred)\n",
    "print('MAE = ',mae)\n",
    "\n",
    "rmse=np.sqrt(mse)\n",
    "print('RMSE = ',rmse)"
   ]
  }
 ],
 "metadata": {
  "kernelspec": {
   "display_name": "Python 3",
   "language": "python",
   "name": "python3"
  },
  "language_info": {
   "codemirror_mode": {
    "name": "ipython",
    "version": 3
   },
   "file_extension": ".py",
   "mimetype": "text/x-python",
   "name": "python",
   "nbconvert_exporter": "python",
   "pygments_lexer": "ipython3",
   "version": "3.8.8"
  }
 },
 "nbformat": 4,
 "nbformat_minor": 5
}
